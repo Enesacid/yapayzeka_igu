{
  "nbformat": 4,
  "nbformat_minor": 0,
  "metadata": {
    "colab": {
      "provenance": []
    },
    "kernelspec": {
      "name": "python3",
      "display_name": "Python 3"
    },
    "language_info": {
      "name": "python"
    }
  },
  "cells": [
    {
      "cell_type": "markdown",
      "source": [
        "IGU MYO YZ DERSI 30.09.2024 - Ders Notu\n",
        "\n",
        "ENES EROĞLU"
      ],
      "metadata": {
        "id": "fgiVk7q5CEI-"
      }
    },
    {
      "cell_type": "code",
      "execution_count": 17,
      "metadata": {
        "colab": {
          "base_uri": "https://localhost:8080/"
        },
        "id": "FNLQtlmAA3UZ",
        "outputId": "73b9c407-bb97-4c1d-cd2b-b7fe0655ff0a"
      },
      "outputs": [
        {
          "output_type": "stream",
          "name": "stdout",
          "text": [
            "Merhaba IGU MYO YZ \n"
          ]
        }
      ],
      "source": [
        "  print(\"Merhaba IGU MYO YZ \") # ilk python programı çıktısıdır."
      ]
    },
    {
      "cell_type": "code",
      "source": [
        "import sys # import python programlama diilinde yazılıma kütüpjane ekleme yarayan kodtur.\n",
        "print(sys.version)"
      ],
      "metadata": {
        "colab": {
          "base_uri": "https://localhost:8080/"
        },
        "id": "WUS7GPb3GJlk",
        "outputId": "5aa00a87-8133-4390-928c-824f1596c444"
      },
      "execution_count": 16,
      "outputs": [
        {
          "output_type": "stream",
          "name": "stdout",
          "text": [
            "3.10.12 (main, Sep 11 2024, 15:47:36) [GCC 11.4.0]\n"
          ]
        }
      ]
    },
    {
      "cell_type": "code",
      "source": [
        "from google.colab import drive # google colab - drive bağlantısı\n",
        "\n",
        "drive.mount(\"/content/drive\")"
      ],
      "metadata": {
        "colab": {
          "base_uri": "https://localhost:8080/"
        },
        "id": "OXyGUYHPGo2O",
        "outputId": "59e3efcd-13a1-41b7-d1f8-d40fa06fe4b5"
      },
      "execution_count": 11,
      "outputs": [
        {
          "output_type": "stream",
          "name": "stdout",
          "text": [
            "Mounted at /content/drive\n"
          ]
        }
      ]
    },
    {
      "cell_type": "code",
      "source": [
        "import os\n",
        "\n",
        "os.chdir(\"/content/drive/My Drive/YZIGU\")\n",
        "\n",
        "!pwd # bize kodun çıktısını dosya yolu olarak veren kod blogudur."
      ],
      "metadata": {
        "colab": {
          "base_uri": "https://localhost:8080/"
        },
        "id": "1bwH4IAmHzLy",
        "outputId": "a7e3c67b-8a85-470c-debf-c3f059c5f01a"
      },
      "execution_count": 15,
      "outputs": [
        {
          "output_type": "stream",
          "name": "stdout",
          "text": [
            "/content/drive/My Drive/YZIGU\n"
          ]
        }
      ]
    }
  ]
}